{
 "cells": [
  {
   "cell_type": "markdown",
   "metadata": {},
   "source": [
    "<b>1. What is the result of the code, and explain?\n",
    "#### >>> X = 'iNeuron'\n",
    "#### >>> def func():\n",
    "#### print(X)\n",
    "#### >>> func()\n",
    "</b>"
   ]
  },
  {
   "cell_type": "markdown",
   "metadata": {},
   "source": [
    "Ans: output: iNeuron\n",
    "    <p>Explaination: The func return the x and x is declared as a iNeuron\n",
    "    when we call the func() it will print iNeuron"
   ]
  },
  {
   "cell_type": "markdown",
   "metadata": {},
   "source": [
    "<b>2. What is the result of the code, and explain?\n",
    "#### >>> X = 'iNeuron'\n",
    "#### >>> def func():\n",
    "#### X = 'NI!'\n",
    "#### >>> func()\n",
    "#### >>> print(X)\n",
    "</b>"
   ]
  },
  {
   "cell_type": "markdown",
   "metadata": {},
   "source": [
    "ans: iNeuron\n"
   ]
  },
  {
   "cell_type": "markdown",
   "metadata": {},
   "source": [
    "<b>3. What does this code print, and why?\n",
    "#### >>> X = 'iNeuron'\n",
    "#### >>> def func():\n",
    "#### X = 'NI'\n",
    "#### print(X)\n",
    "#### >>> func()\n",
    "#### >>> print(X)\n",
    "</b>"
   ]
  },
  {
   "cell_type": "markdown",
   "metadata": {},
   "source": [
    "Ans: The output is iNeuron\n",
    "    <p>Explaination: \n",
    "        <p>At the end we call print(x) which means the x value is call and before starting the function we declared\n",
    "        x='iNeuron'.The print (x) function  print the  value of x."
   ]
  },
  {
   "cell_type": "markdown",
   "metadata": {},
   "source": [
    "<b>4. What output does this code produce? Why?\n",
    "#### >>> X = 'iNeuron'\n",
    "#### >>> def func():\n",
    "#### global X\n",
    "#### X = 'NI'\n",
    "#### >>> func()\n",
    "#### >>> print(X)\n",
    "</b>"
   ]
  },
  {
   "cell_type": "markdown",
   "metadata": {},
   "source": [
    "Ans: \n",
    "    <p>The output will be:\n",
    "        <p>NI\n",
    "     <p>iNeuron\n",
    "    <p>Explaination: \n",
    "        <p>At the end we call func() and print(x) function . when we call func() function after executing it it will go inside the \n",
    "        func() function and it return print(x) inside function we declared the value of x='NI'.\n",
    "        print(x) function call the value of x i.e 'iNeuron' and it will print the 'iNeuron' as a output."
   ]
  },
  {
   "cell_type": "markdown",
   "metadata": {},
   "source": [
    "<b>5. What about this code—what’s the output, and why?\n",
    "#### >>> X = 'iNeuron'\n",
    "#### >>> def func():\n",
    "#### X = 'NI'\n",
    "#### def nested():\n",
    "#### print(X)\n",
    "#### nested()\n",
    "#### >>> func()\n",
    "#### >>> X\n",
    "</b>"
   ]
  },
  {
   "cell_type": "markdown",
   "metadata": {},
   "source": [
    "Ans: output : 'iNeuron'\n",
    "    <p>Explaination: At the end we're calling the X & before function declaration we assigned the X value 'iNeuron'"
   ]
  },
  {
   "cell_type": "markdown",
   "metadata": {},
   "source": [
    "<b>6. How about this code: what is its output in Python 3, and explain?\n",
    "#### >>> def func():\n",
    "#### X = 'NI'\n",
    "#### def nested():\n",
    "#### nonlocal X\n",
    "#### X = 'Spam'\n",
    "#### nested()\n",
    "#### print(X)\n",
    "#### >>> func()\n",
    "</b>"
   ]
  },
  {
   "cell_type": "markdown",
   "metadata": {},
   "source": [
    "<p>Ans: output: it will print nothing \n",
    "        <p>explain: At the end the we 're calling ' the func() , the function is only assigning thevalue of x is 'NI'"
   ]
  },
  {
   "cell_type": "code",
   "execution_count": null,
   "metadata": {},
   "outputs": [],
   "source": []
  }
 ],
 "metadata": {
  "kernelspec": {
   "display_name": "Python 3",
   "language": "python",
   "name": "python3"
  },
  "language_info": {
   "codemirror_mode": {
    "name": "ipython",
    "version": 3
   },
   "file_extension": ".py",
   "mimetype": "text/x-python",
   "name": "python",
   "nbconvert_exporter": "python",
   "pygments_lexer": "ipython3",
   "version": "3.8.5"
  }
 },
 "nbformat": 4,
 "nbformat_minor": 4
}
